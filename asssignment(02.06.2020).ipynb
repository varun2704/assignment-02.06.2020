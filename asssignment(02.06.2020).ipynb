{
 "cells": [
  {
   "cell_type": "code",
   "execution_count": 2,
   "metadata": {},
   "outputs": [
    {
     "name": "stdout",
     "output_type": "stream",
     "text": [
      "Type either a letter or  word!\n",
      "\n",
      "['?', '?', '?', '?', '?']\n",
      "Lives left:  9\n",
      "Guess a letter or word\n",
      "varun\n",
      "Incorrect, You lost a life\n",
      "['?', '?', '?', '?', '?']\n",
      "Lives left:  8\n",
      "Guess a letter or word\n",
      "doctor strange\n",
      "Incorrect, You lost a life\n",
      "['?', '?', '?', '?', '?']\n",
      "Lives left:  7\n",
      "Guess a letter or word\n",
      "thor\n",
      "Incorrect, You lost a life\n",
      "['?', '?', '?', '?', '?']\n",
      "Lives left:  6\n",
      "Guess a letter or word\n",
      "hulk\n",
      "Incorrect, You lost a life\n",
      "['?', '?', '?', '?', '?']\n",
      "Lives left:  5\n",
      "Guess a letter or word\n",
      "captain america\n",
      "You won! \n"
     ]
    }
   ],
   "source": [
    "import random\n",
    "\n",
    "response = True\n",
    "\n",
    "words = [\"doctor strange\", \"iron man\", \"thor\",\"hulk\",\"captain america\"]\n",
    "\n",
    "correct_guess = False\n",
    "\n",
    "def update_clue(guessed_letter, secret_word, clue):\n",
    "    index = 0\n",
    "    while index < len(secret_word):\n",
    "        if guessed_letter == secret_word[index]:\n",
    "            clue[index] = guessed_letter\n",
    "        index+= 1\n",
    "\n",
    "while response == True:\n",
    "    lives = 9\n",
    "    secret_word = random.choice(words)\n",
    "    clue = list(\"?????\")\n",
    "    print(\"Type either a letter or  word!\\n\")\n",
    "\n",
    "    while lives > 0:\n",
    "        print(clue)\n",
    "        print(\"Lives left: \",lives)\n",
    "        guess = input(\"Guess a letter or word\\n\")\n",
    "\n",
    "        if guess == secret_word:\n",
    "            correct_guess = True\n",
    "            break\n",
    "\n",
    "        if guess in secret_word:\n",
    "            update_clue(guess, secret_word, clue)\n",
    "            print(\"Correct! Pick another letter...\\n\")\n",
    "\n",
    "        else:\n",
    "            print(\"Incorrect, You lost a life\")\n",
    "            lives-= 1\n",
    "            \n",
    "\n",
    "    if correct_guess:\n",
    "        print(\"You won! \")\n",
    "        break\n",
    "    else:\n",
    "            response = False"
   ]
  },
  {
   "cell_type": "code",
   "execution_count": null,
   "metadata": {},
   "outputs": [],
   "source": []
  }
 ],
 "metadata": {
  "kernelspec": {
   "display_name": "Python 3",
   "language": "python",
   "name": "python3"
  },
  "language_info": {
   "codemirror_mode": {
    "name": "ipython",
    "version": 3
   },
   "file_extension": ".py",
   "mimetype": "text/x-python",
   "name": "python",
   "nbconvert_exporter": "python",
   "pygments_lexer": "ipython3",
   "version": "3.7.6"
  }
 },
 "nbformat": 4,
 "nbformat_minor": 4
}
